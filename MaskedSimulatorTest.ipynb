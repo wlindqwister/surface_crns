{
 "cells": [
  {
   "cell_type": "code",
   "execution_count": 2,
   "id": "17b8d52c",
   "metadata": {},
   "outputs": [
    {
     "name": "stdout",
     "output_type": "stream",
     "text": [
      "pygame 2.6.0 (SDL 2.28.4, Python 3.12.4)\n",
      "Hello from the pygame community. https://www.pygame.org/contribute.html\n"
     ]
    }
   ],
   "source": [
    "import numpy as np\n",
    "import matplotlib.pyplot as plt\n",
    "import time\n",
    "import pickle\n",
    "import pandas as pd\n",
    "from PIL import Image, ImageDraw\n",
    "from surface_crns import SurfaceCRNQueueSimulator\n",
    "from surface_crns.models.grids import SquareGrid\n",
    "from surface_crns.readers.manifest_readers import read_manifest\n",
    "from surface_crns.options.option_processor import SurfaceCRNOptionParser\n",
    "from surface_crns.simulators.queue_simulator import QueueSimulator"
   ]
  },
  {
   "cell_type": "code",
   "execution_count": 3,
   "id": "147264fa",
   "metadata": {},
   "outputs": [],
   "source": [
    "def ManifestInitWriter(name, microstructure):\n",
    "    im = microstructure.astype(int)\n",
    "    \n",
    "    with open(name, 'w') as outfile:\n",
    "        for row in range(microstructure.shape[0]):\n",
    "            for col in range(microstructure.shape[1]):\n",
    "                if im[row, col] == 1:\n",
    "                    state = \"A\"\n",
    "                else:\n",
    "                    state = \"Q\"\n",
    "                outfile.write(state + \" \")\n",
    "            if row < 200:\n",
    "                outfile.write(\"\\n\")"
   ]
  },
  {
   "cell_type": "code",
   "execution_count": 5,
   "id": "d0f2f3b1",
   "metadata": {},
   "outputs": [
    {
     "data": {
      "image/png": "[encoded data removed]",
      "text/plain": [
       "<Figure size 600x600 with 1 Axes>"
      ]
     },
     "metadata": {},
     "output_type": "display_data"
    },
    {
     "name": "stdout",
     "output_type": "stream",
     "text": [
      "Initial condition unit cell created\n",
      "Manifest written\n"
     ]
    }
   ],
   "source": [
    "im = Image.new('RGB', (200, 100), (0, 0, 0))\n",
    "draw = ImageDraw.Draw(im)\n",
    "draw.ellipse(xy = (24, 10, 109, 90),\n",
    "            fill = (255, 255, 255, 255),\n",
    "            outline = (255, 255, 255),\n",
    "            width = 0)\n",
    "\n",
    "draw.ellipse(xy = (91, 10, 176, 90),\n",
    "        fill = (255, 255, 255, 255),\n",
    "        outline = (255, 255, 255),\n",
    "        width = 0)\n",
    "\n",
    "draw.ellipse(xy = (100, 24, 100, 76),\n",
    "    fill = (0, 0, 0),\n",
    "    outline = (0, 0, 0),\n",
    "    width = 0)\n",
    "\n",
    "plt.subplots(1, 1, figsize=(6, 6))\n",
    "plt.axis('off')\n",
    "fig = plt.imshow(im, cmap='gist_stern')\n",
    "plt.show()\n",
    "\n",
    "imgray = im.convert('L')\n",
    "imarray = np.array(imgray)\n",
    "imarray[imarray == 255] = 1\n",
    "imarray = imarray.astype('bool')\n",
    "\n",
    "# Create init file\n",
    "print('Initial condition unit cell created')\n",
    "ManifestInitWriter('GR_graincontact_init.txt', imarray)\n",
    "\n",
    "manifest_filename = \"GR_graincontact_manifest.txt\"\n",
    "with open(manifest_filename, 'w') as outfile:\n",
    "    header = '''# Run settings\n",
    "pixels_per_node    = 3\n",
    "speedup_factor     = 50\n",
    "rng_seed           = 123123123\n",
    "max_duration       = 3000\n",
    "node_display       = Color\n",
    "wrap               = True\n",
    "\n",
    "# Transition rules\n",
    "!START_TRANSITION_RULES\n",
    "#A + Q -> R + A (1)\n",
    "#A -> R (0.6)\n",
    "#R -> Q (0.3)\n",
    "A + Q -> R + R (0.4)\n",
    "R + R -> A + Q (0.01)\n",
    "R + Q -> Q + R (1)\n",
    "!END_TRANSITION_RULES\n",
    "\n",
    "!START_COLORMAP\n",
    "Q: (230,230,230)\n",
    "A: (255, 0, 0)\n",
    "R: (0, 100, 255)\n",
    "!END_COLORMAP\n",
    "\n",
    "\n",
    "!START_INIT_STATE\n",
    "!INCLUDE GR_graincontact_init.txt\n",
    "!END_INIT_STATE'''\n",
    "    outfile.write(header)\n",
    "    \n",
    "print('Manifest written')"
   ]
  },
  {
   "cell_type": "code",
   "execution_count": 8,
   "id": "c8e5e6dd",
   "metadata": {},
   "outputs": [
    {
     "data": {
      "image/png": "[encoded data removed]",
      "text/plain": [
       "<Figure size 600x600 with 1 Axes>"
      ]
     },
     "metadata": {},
     "output_type": "display_data"
    },
    {
     "name": "stdout",
     "output_type": "stream",
     "text": [
      "Initial condition unit cell created\n",
      "Manifest written\n"
     ]
    }
   ],
   "source": [
    "im = Image.new('RGB', (200, 100), (0, 0, 0))\n",
    "draw = ImageDraw.Draw(im)\n",
    "draw.ellipse(xy = (24, 10, 109, 90),\n",
    "            fill = (255, 255, 255, 255),\n",
    "            outline = (255, 255, 255),\n",
    "            width = 0)\n",
    "\n",
    "draw.rectangle(xy = (100, 24, 110, 76),\n",
    "    fill = (0, 0, 0),\n",
    "    outline = (0, 0, 0),\n",
    "    width = 0)\n",
    "\n",
    "plt.subplots(1, 1, figsize=(6, 6))\n",
    "plt.axis('off')\n",
    "fig = plt.imshow(im, cmap='gist_stern')\n",
    "plt.show()\n",
    "\n",
    "imgray = im.convert('L')\n",
    "imarray = np.array(imgray)\n",
    "imarray[imarray == 255] = 1\n",
    "imarray = imarray.astype('bool')\n",
    "\n",
    "# Create init file\n",
    "print('Initial condition unit cell created')\n",
    "ManifestInitWriter('GR_graincontact_left_init.txt', imarray)\n",
    "\n",
    "manifest_filename = \"GR_graincontact_left_manifest.txt\"\n",
    "with open(manifest_filename, 'w') as outfile:\n",
    "    header = '''# Run settings\n",
    "pixels_per_node    = 3\n",
    "speedup_factor     = 50\n",
    "rng_seed           = 123123123\n",
    "max_duration       = 3000\n",
    "node_display       = Color\n",
    "wrap               = True\n",
    "\n",
    "# Transition rules\n",
    "!START_TRANSITION_RULES\n",
    "#A + Q -> R + A (1)\n",
    "#A -> R (0.6)\n",
    "#R -> Q (0.3)\n",
    "A + Q -> R + R (0.4)\n",
    "R + R -> A + Q (0.01)\n",
    "R + Q -> Q + R (1)\n",
    "!END_TRANSITION_RULES\n",
    "\n",
    "!START_COLORMAP\n",
    "Q: (230,230,230)\n",
    "A: (255, 0, 0)\n",
    "R: (0, 100, 255)\n",
    "!END_COLORMAP\n",
    "\n",
    "\n",
    "!START_INIT_STATE\n",
    "!INCLUDE GR_graincontact_left_init.txt\n",
    "!END_INIT_STATE'''\n",
    "    outfile.write(header)\n",
    "    \n",
    "print('Manifest written')"
   ]
  },
  {
   "cell_type": "code",
   "execution_count": 9,
   "id": "68abca2c",
   "metadata": {},
   "outputs": [
    {
     "data": {
      "image/png": "[encoded data removed]",
      "text/plain": [
       "<Figure size 600x600 with 1 Axes>"
      ]
     },
     "metadata": {},
     "output_type": "display_data"
    },
    {
     "name": "stdout",
     "output_type": "stream",
     "text": [
      "Initial condition unit cell created\n",
      "Manifest written\n"
     ]
    }
   ],
   "source": [
    "im = Image.new('RGB', (200, 100), (0, 0, 0))\n",
    "draw = ImageDraw.Draw(im)\n",
    "draw.ellipse(xy = (91, 10, 176, 90),\n",
    "        fill = (255, 255, 255, 255),\n",
    "        outline = (255, 255, 255),\n",
    "        width = 0)\n",
    "\n",
    "draw.rectangle(xy = (90, 24, 100, 76),\n",
    "    fill = (0, 0, 0),\n",
    "    outline = (0, 0, 0),\n",
    "    width = 0)\n",
    "\n",
    "plt.subplots(1, 1, figsize=(6, 6))\n",
    "plt.axis('off')\n",
    "fig = plt.imshow(im, cmap='gist_stern')\n",
    "plt.show()\n",
    "\n",
    "imgray = im.convert('L')\n",
    "imarray = np.array(imgray)\n",
    "imarray[imarray == 255] = 1\n",
    "imarray = imarray.astype('bool')\n",
    "\n",
    "# Create init file\n",
    "print('Initial condition unit cell created')\n",
    "ManifestInitWriter('GR_graincontact_right_init.txt', imarray)\n",
    "\n",
    "manifest_filename = \"GR_graincontact_right_manifest.txt\"\n",
    "with open(manifest_filename, 'w') as outfile:\n",
    "    header = '''# Run settings\n",
    "pixels_per_node    = 3\n",
    "speedup_factor     = 50\n",
    "rng_seed           = 123123123\n",
    "max_duration       = 3000\n",
    "node_display       = Color\n",
    "wrap               = True\n",
    "\n",
    "# Transition rules\n",
    "!START_TRANSITION_RULES\n",
    "#A + Q -> R + A (1)\n",
    "#A -> R (0.6)\n",
    "#R -> Q (0.3)\n",
    "A + Q -> R + R (0.4)\n",
    "R + R -> A + Q (0.01)\n",
    "R + Q -> Q + R (1)\n",
    "!END_TRANSITION_RULES\n",
    "\n",
    "!START_COLORMAP\n",
    "Q: (230,230,230)\n",
    "A: (255, 0, 0)\n",
    "R: (0, 100, 255)\n",
    "!END_COLORMAP\n",
    "\n",
    "\n",
    "!START_INIT_STATE\n",
    "!INCLUDE GR_graincontact_right_init.txt\n",
    "!END_INIT_STATE'''\n",
    "    outfile.write(header)\n",
    "    \n",
    "print('Manifest written')"
   ]
  },
  {
   "cell_type": "markdown",
   "id": "4197eba8",
   "metadata": {},
   "source": [
    "### To-Do\n",
    "1. Read mask into surface CRN reader function\n",
    "    - Make new node object, modNode, that can take a modifier value\n",
    "2. Add modifier/weight value f to tuple grid tuple\n",
    "    - Use modNode to create new square grid class that includes modifier value for reading\n",
    "3. Translate mask values to grid points\n",
    "    - Create new queue simulator that includes mod node vals that multiply rate\n",
    "4. Test simulations"
   ]
  },
  {
   "cell_type": "code",
   "execution_count": null,
   "id": "2a7800e0",
   "metadata": {},
   "outputs": [],
   "source": []
  }
 ],
 "metadata": {
  "kernelspec": {
   "display_name": "Python 3",
   "language": "python",
   "name": "python3"
  },
  "language_info": {
   "codemirror_mode": {
    "name": "ipython",
    "version": 3
   },
   "file_extension": ".py",
   "mimetype": "text/x-python",
   "name": "python",
   "nbconvert_exporter": "python",
   "pygments_lexer": "ipython3",
   "version": "3.12.4"
  },
  "varInspector": {
   "cols": {
    "lenName": 16,
    "lenType": 16,
    "lenVar": 40
   },
   "kernels_config": {
    "python": {
     "delete_cmd_postfix": "",
     "delete_cmd_prefix": "del ",
     "library": "var_list.py",
     "varRefreshCmd": "print(var_dic_list())"
    },
    "r": {
     "delete_cmd_postfix": ") ",
     "delete_cmd_prefix": "rm(",
     "library": "var_list.r",
     "varRefreshCmd": "cat(var_dic_list()) "
    }
   },
   "types_to_exclude": [
    "module",
    "function",
    "builtin_function_or_method",
    "instance",
    "_Feature"
   ],
   "window_display": false
  }
 },
 "nbformat": 4,
 "nbformat_minor": 5
}
